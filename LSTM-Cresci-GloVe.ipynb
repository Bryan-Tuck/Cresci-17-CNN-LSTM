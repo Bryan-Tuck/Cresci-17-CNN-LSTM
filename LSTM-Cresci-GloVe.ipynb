{
 "cells": [
  {
   "cell_type": "code",
   "execution_count": 1,
   "id": "74b06298",
   "metadata": {},
   "outputs": [],
   "source": [
    "import torch\n",
    "from torchtext.legacy import data\n",
    "import tqdm"
   ]
  },
  {
   "cell_type": "code",
   "execution_count": 2,
   "id": "59026f5a",
   "metadata": {},
   "outputs": [],
   "source": [
    "from emoji import demojize\n",
    "from nltk.tokenize import TweetTokenizer\n",
    "\n",
    "\n",
    "tokenizer = TweetTokenizer()\n",
    "\n",
    "\n",
    "def normalizeToken(token):\n",
    "    lowercased_token = token.lower()\n",
    "    if token.startswith(\"@\"):\n",
    "        return \"@USER\"\n",
    "    elif lowercased_token.startswith(\"http\") or lowercased_token.startswith(\"www\"):\n",
    "        return \"HTTPURL\"\n",
    "    elif len(token) == 1:\n",
    "        return demojize(token)\n",
    "    else:\n",
    "        if token == \"’\":\n",
    "            return \"'\"\n",
    "        elif token == \"…\":\n",
    "            return \"...\"\n",
    "        else:\n",
    "            return token\n",
    "\n",
    "\n",
    "def normalizeTweet(tweet):\n",
    "    tokens = tokenizer.tokenize(tweet.replace(\"’\", \"'\").replace(\"…\", \"...\"))\n",
    "    normTweet = \" \".join([normalizeToken(token) for token in tokens])\n",
    "\n",
    "    normTweet = (\n",
    "        normTweet.replace(\"cannot \", \"can not \")\n",
    "        .replace(\"n't \", \" n't \")\n",
    "        .replace(\"n 't \", \" n't \")\n",
    "        .replace(\"ca n't\", \"can't\")\n",
    "        .replace(\"ai n't\", \"ain't\")\n",
    "    )\n",
    "    normTweet = (\n",
    "        normTweet.replace(\"'m \", \" 'm \")\n",
    "        .replace(\"'re \", \" 're \")\n",
    "        .replace(\"'s \", \" 's \")\n",
    "        .replace(\"'ll \", \" 'll \")\n",
    "        .replace(\"'d \", \" 'd \")\n",
    "        .replace(\"'ve \", \" 've \")\n",
    "    )\n",
    "    normTweet = (\n",
    "        normTweet.replace(\" p . m .\", \"  p.m.\")\n",
    "        .replace(\" p . m \", \" p.m \")\n",
    "        .replace(\" a . m .\", \" a.m.\")\n",
    "        .replace(\" a . m \", \" a.m \")\n",
    "    )\n",
    "\n",
    "    return normTweet.split(\" \")"
   ]
  },
  {
   "cell_type": "code",
   "execution_count": 3,
   "id": "7c1c70f6",
   "metadata": {},
   "outputs": [],
   "source": [
    "SEED = 42\n",
    "\n",
    "torch.manual_seed(SEED)\n",
    "torch.backends.cudnn.deterministic = True\n",
    "\n",
    "TEXT = data.Field(tokenize = normalizeTweet, include_lengths = True)\n",
    "\n",
    "LABEL = data.LabelField(dtype = torch.float)"
   ]
  },
  {
   "cell_type": "code",
   "execution_count": 4,
   "id": "529423bd",
   "metadata": {},
   "outputs": [],
   "source": [
    "dataset = data.TabularDataset(path='cresci-sampled.csv',format='csv',\n",
    "                            skip_header=True,\n",
    "                            fields=[('tweet',TEXT), ('label',LABEL)])"
   ]
  },
  {
   "cell_type": "code",
   "execution_count": 5,
   "id": "3ffcb9a3",
   "metadata": {},
   "outputs": [],
   "source": [
    "import random\n",
    "train_data, valid_data = dataset.split(split_ratio=0.9, random_state = random.seed(SEED))"
   ]
  },
  {
   "cell_type": "code",
   "execution_count": 6,
   "id": "71bdc29c",
   "metadata": {},
   "outputs": [
    {
     "name": "stdout",
     "output_type": "stream",
     "text": [
      "Number of training examples: 1735572\n",
      "Number of validation examples: 192841\n"
     ]
    }
   ],
   "source": [
    "print(f'Number of training examples: {len(train_data)}')\n",
    "print(f'Number of validation examples: {len(valid_data)}')"
   ]
  },
  {
   "cell_type": "code",
   "execution_count": 7,
   "id": "fdd70599",
   "metadata": {},
   "outputs": [],
   "source": [
    "valid_data, test_data = valid_data.split(split_ratio=0.5,random_state = random.seed(SEED))"
   ]
  },
  {
   "cell_type": "code",
   "execution_count": 8,
   "id": "6d407430",
   "metadata": {},
   "outputs": [
    {
     "name": "stdout",
     "output_type": "stream",
     "text": [
      "Number of training examples: 1735572\n",
      "Number of validation examples: 96420\n",
      "Number of testing examples: 96421\n"
     ]
    }
   ],
   "source": [
    "print(f'Number of training examples: {len(train_data)}')\n",
    "print(f'Number of validation examples: {len(valid_data)}')\n",
    "print(f'Number of testing examples: {len(test_data)}')"
   ]
  },
  {
   "cell_type": "code",
   "execution_count": 9,
   "id": "82a12e8b",
   "metadata": {},
   "outputs": [],
   "source": [
    "#MAX_VOCAB_SIZE = 20_000\n",
    "\n",
    "TEXT.build_vocab(train_data, \n",
    "                 min_freq = 5,\n",
    "                 #max_size = MAX_VOCAB_SIZE,\n",
    "                 vectors = \"glove.twitter.27B.200d\",\n",
    "                 unk_init = torch.Tensor.normal_)\n",
    "\n",
    "LABEL.build_vocab(train_data)"
   ]
  },
  {
   "cell_type": "code",
   "execution_count": 10,
   "id": "f7e7aea2",
   "metadata": {},
   "outputs": [
    {
     "name": "stdout",
     "output_type": "stream",
     "text": [
      "Unique tokens in TEXT vocabulary: 105329\n",
      "Unique tokens in LABEL vocabulary: 2\n"
     ]
    }
   ],
   "source": [
    "print(f\"Unique tokens in TEXT vocabulary: {len(TEXT.vocab)}\")\n",
    "print(f\"Unique tokens in LABEL vocabulary: {len(LABEL.vocab)}\")"
   ]
  },
  {
   "cell_type": "code",
   "execution_count": 11,
   "id": "172fb120",
   "metadata": {},
   "outputs": [
    {
     "name": "stdout",
     "output_type": "stream",
     "text": [
      "[('.', 996667), ('@USER', 743664), (',', 563826), ('HTTPURL', 426639), (':', 403397), ('-', 402786), ('the', 387372), ('!', 366903), ('a', 344324), ('\"', 336257), ('to', 307316), ('I', 302606), ('RT', 248349), ('?', 240784), ('you', 210006), ('of', 208740), ('in', 206461), ('is', 197808), ('and', 170712), ('\\x80', 157298), ('che', 155708), ('di', 154508), ('¨', 144074), ('for', 121055), ('it', 120818), (\"'s\", 119705), ('...', 118018), ('Ã', 117123), ('ã', 108741), ('non', 106995)]\n"
     ]
    }
   ],
   "source": [
    "print(TEXT.vocab.freqs.most_common(30))"
   ]
  },
  {
   "cell_type": "code",
   "execution_count": 12,
   "id": "a8b1d8e8",
   "metadata": {},
   "outputs": [
    {
     "name": "stdout",
     "output_type": "stream",
     "text": [
      "['<unk>', '<pad>', '.', '@USER', ',', 'HTTPURL', ':', '-', 'the', '!', 'a', '\"', 'to', 'I', 'RT', '?', 'you', 'of', 'in', 'is', 'and', '\\x80', 'che', 'di', '¨', 'for', 'it', \"'s\", '...', 'Ã', 'ã', 'non', 'la', 'â', 'e', 'that', 'il', 'un', '\\x81', 'on', 'my', 'me', \"'\", \"n't\", 'Ù', 'Ø', 'The', 'your', 'do', 'i', 'be', 'are', 'à', 'with', 'per', '¤', 'have', 'not', 'this', 'Ð', 'una', '¦', 'le', 'si', '¹', 'so', 'at', 'A', ')', 'like', 'but', 'out', '\\x82', \"'m\", 'what', '\\x9c', 'can', 'was', 'just', ':copyright:', 'get', 'con', 'sono', 'all', '&', 'mi', 'se', 'about', '²', '\\x99', 'one', '§', 'we', 'when', 'Read', 'come', '\\x9d', 'You', 'as', 'they']\n"
     ]
    }
   ],
   "source": [
    "print(TEXT.vocab.itos[:100])"
   ]
  },
  {
   "cell_type": "code",
   "execution_count": 13,
   "id": "9033a871",
   "metadata": {},
   "outputs": [
    {
     "name": "stdout",
     "output_type": "stream",
     "text": [
      "{'tweet': ['Tips', 'To', 'Draw', 'More', 'Traffic', 'With', 'Quality', 'Link', 'Building', 'HTTPURL'], 'label': '1'}\n"
     ]
    }
   ],
   "source": [
    "print(vars(train_data.examples[5000]))"
   ]
  },
  {
   "cell_type": "code",
   "execution_count": 14,
   "id": "837932e3",
   "metadata": {},
   "outputs": [],
   "source": [
    "BATCH_SIZE = 512\n",
    "\n",
    "#placing the tensors on the GPU if one is available\n",
    "device = torch.device('cuda' if torch.cuda.is_available() else 'cpu')\n",
    "\n",
    "train_iterator, valid_iterator, test_iterator = data.BucketIterator.splits(\n",
    "    (train_data, valid_data, test_data), \n",
    "    batch_size = BATCH_SIZE,\n",
    "    sort_within_batch = True,\n",
    "    shuffle = True,\n",
    "    sort_key = lambda x: len(x.tweet),\n",
    "    device = device)"
   ]
  },
  {
   "cell_type": "code",
   "execution_count": 15,
   "id": "1d4d1e62",
   "metadata": {},
   "outputs": [],
   "source": [
    "import torch.nn as nn\n",
    "\n",
    "class RNN(nn.Module):\n",
    "    def __init__(self, vocab_size, embedding_dim, hidden_dim, output_dim, n_layers, \n",
    "                 bidirectional, dropout, pad_idx):\n",
    "        \n",
    "        super().__init__()\n",
    "        \n",
    "        self.embedding = nn.Embedding(vocab_size, embedding_dim, padding_idx = pad_idx)\n",
    "        \n",
    "        self.rnn = nn.LSTM(embedding_dim, \n",
    "                           hidden_dim, \n",
    "                           num_layers=n_layers, \n",
    "                           bidirectional=bidirectional, \n",
    "                           dropout=dropout)\n",
    "        \n",
    "        self.fc = nn.Linear(hidden_dim * 2, output_dim)\n",
    "        self.dropout = nn.Dropout(dropout)\n",
    "        \n",
    "    def forward(self, tweet, tweet_lengths):\n",
    "        \n",
    "        #tweet = [sent len, batch size]\n",
    "        \n",
    "        embedded = self.dropout(self.embedding(tweet))\n",
    "        \n",
    "        #embedded = [sent len, batch size, emb dim]\n",
    "        \n",
    "        #pack sequence\n",
    "        # lengths need to be on CPU!\n",
    "        packed_embedded = nn.utils.rnn.pack_padded_sequence(embedded, tweet_lengths.to('cpu'))\n",
    "        \n",
    "        packed_output, (hidden, cell) = self.rnn(packed_embedded)\n",
    "        \n",
    "        #unpack sequence\n",
    "        output, output_lengths = nn.utils.rnn.pad_packed_sequence(packed_output)\n",
    "\n",
    "        #output = [sent len, batch size, hid dim * num directions]\n",
    "        #output over padding tokens are zero tensors\n",
    "        \n",
    "        #hidden = [num layers * num directions, batch size, hid dim]\n",
    "        #cell = [num layers * num directions, batch size, hid dim]\n",
    "        \n",
    "        #concat the final forward (hidden[-2,:,:]) and backward (hidden[-1,:,:]) hidden layers\n",
    "        #and apply dropout\n",
    "        \n",
    "        hidden = self.dropout(torch.cat((hidden[-2,:,:],hidden[-1,:,:]), dim = 1))\n",
    "                \n",
    "        #hidden = [batch size, hid dim * num directions]\n",
    "            \n",
    "        return self.fc(hidden)"
   ]
  },
  {
   "cell_type": "code",
   "execution_count": 16,
   "id": "a9cfc7b3",
   "metadata": {},
   "outputs": [],
   "source": [
    "INPUT_DIM = len(TEXT.vocab)\n",
    "EMBEDDING_DIM = 200\n",
    "HIDDEN_DIM = 200\n",
    "OUTPUT_DIM = 1\n",
    "N_LAYERS = 3\n",
    "BIDIRECTIONAL = True\n",
    "DROPOUT = 0.5\n",
    "PAD_IDX = TEXT.vocab.stoi[TEXT.pad_token]\n",
    "\n",
    "model = RNN(INPUT_DIM, \n",
    "            EMBEDDING_DIM, \n",
    "            HIDDEN_DIM, \n",
    "            OUTPUT_DIM, \n",
    "            N_LAYERS, \n",
    "            BIDIRECTIONAL, \n",
    "            DROPOUT, \n",
    "            PAD_IDX)"
   ]
  },
  {
   "cell_type": "code",
   "execution_count": 17,
   "id": "21c134e7",
   "metadata": {},
   "outputs": [
    {
     "name": "stdout",
     "output_type": "stream",
     "text": [
      "The model has 23,635,801 trainable parameters\n"
     ]
    }
   ],
   "source": [
    "def count_parameters(model):\n",
    "    return sum(p.numel() for p in model.parameters() if p.requires_grad)\n",
    "\n",
    "print(f'The model has {count_parameters(model):,} trainable parameters')"
   ]
  },
  {
   "cell_type": "code",
   "execution_count": 18,
   "id": "e06f415b",
   "metadata": {},
   "outputs": [
    {
     "name": "stdout",
     "output_type": "stream",
     "text": [
      "name: embedding.weight, shape: torch.Size([105329, 200])\n",
      "name: rnn.weight_ih_l0, shape: torch.Size([800, 200])\n",
      "name: rnn.weight_hh_l0, shape: torch.Size([800, 200])\n",
      "name: rnn.bias_ih_l0, shape: torch.Size([800])\n",
      "name: rnn.bias_hh_l0, shape: torch.Size([800])\n",
      "name: rnn.weight_ih_l0_reverse, shape: torch.Size([800, 200])\n",
      "name: rnn.weight_hh_l0_reverse, shape: torch.Size([800, 200])\n",
      "name: rnn.bias_ih_l0_reverse, shape: torch.Size([800])\n",
      "name: rnn.bias_hh_l0_reverse, shape: torch.Size([800])\n",
      "name: rnn.weight_ih_l1, shape: torch.Size([800, 400])\n",
      "name: rnn.weight_hh_l1, shape: torch.Size([800, 200])\n",
      "name: rnn.bias_ih_l1, shape: torch.Size([800])\n",
      "name: rnn.bias_hh_l1, shape: torch.Size([800])\n",
      "name: rnn.weight_ih_l1_reverse, shape: torch.Size([800, 400])\n",
      "name: rnn.weight_hh_l1_reverse, shape: torch.Size([800, 200])\n",
      "name: rnn.bias_ih_l1_reverse, shape: torch.Size([800])\n",
      "name: rnn.bias_hh_l1_reverse, shape: torch.Size([800])\n",
      "name: rnn.weight_ih_l2, shape: torch.Size([800, 400])\n",
      "name: rnn.weight_hh_l2, shape: torch.Size([800, 200])\n",
      "name: rnn.bias_ih_l2, shape: torch.Size([800])\n",
      "name: rnn.bias_hh_l2, shape: torch.Size([800])\n",
      "name: rnn.weight_ih_l2_reverse, shape: torch.Size([800, 400])\n",
      "name: rnn.weight_hh_l2_reverse, shape: torch.Size([800, 200])\n",
      "name: rnn.bias_ih_l2_reverse, shape: torch.Size([800])\n",
      "name: rnn.bias_hh_l2_reverse, shape: torch.Size([800])\n",
      "name: fc.weight, shape: torch.Size([1, 400])\n",
      "name: fc.bias, shape: torch.Size([1])\n"
     ]
    }
   ],
   "source": [
    "for n, p in model.named_parameters():\n",
    "    print(f'name: {n}, shape: {p.shape}')"
   ]
  },
  {
   "cell_type": "code",
   "execution_count": 19,
   "id": "bce109ba",
   "metadata": {},
   "outputs": [],
   "source": [
    "def initialize_parameters(m):\n",
    "    if isinstance(m, nn.Embedding):\n",
    "        nn.init.uniform_(m.weight, -0.05, 0.05)\n",
    "    elif isinstance(m, nn.LSTM):\n",
    "        for n, p in m.named_parameters():\n",
    "            if 'weight_ih' in n:\n",
    "                i, f, g, o = p.chunk(4)\n",
    "                nn.init.xavier_uniform_(i)\n",
    "                nn.init.xavier_uniform_(f)\n",
    "                nn.init.xavier_uniform_(g)\n",
    "                nn.init.xavier_uniform_(o)\n",
    "            elif 'weight_hh' in n:\n",
    "                i, f, g, o = p.chunk(4)\n",
    "                nn.init.orthogonal_(i)\n",
    "                nn.init.orthogonal_(f)\n",
    "                nn.init.orthogonal_(g)\n",
    "                nn.init.orthogonal_(o)\n",
    "            elif 'bias' in n:\n",
    "                i, f, g, o = p.chunk(4)\n",
    "                nn.init.zeros_(i)\n",
    "                nn.init.ones_(f)\n",
    "                nn.init.zeros_(g)\n",
    "                nn.init.zeros_(o)\n",
    "    elif isinstance(m, nn.Linear):\n",
    "        nn.init.xavier_uniform_(m.weight)\n",
    "        nn.init.zeros_(m.bias)"
   ]
  },
  {
   "cell_type": "code",
   "execution_count": 20,
   "id": "43fec899",
   "metadata": {},
   "outputs": [
    {
     "data": {
      "text/plain": [
       "RNN(\n",
       "  (embedding): Embedding(105329, 200, padding_idx=1)\n",
       "  (rnn): LSTM(200, 200, num_layers=3, dropout=0.5, bidirectional=True)\n",
       "  (fc): Linear(in_features=400, out_features=1, bias=True)\n",
       "  (dropout): Dropout(p=0.5, inplace=False)\n",
       ")"
      ]
     },
     "execution_count": 20,
     "metadata": {},
     "output_type": "execute_result"
    }
   ],
   "source": [
    "model.apply(initialize_parameters)"
   ]
  },
  {
   "cell_type": "code",
   "execution_count": 21,
   "id": "70ea0d81",
   "metadata": {},
   "outputs": [
    {
     "name": "stdout",
     "output_type": "stream",
     "text": [
      "torch.Size([105329, 200])\n"
     ]
    }
   ],
   "source": [
    "pretrained_embeddings = TEXT.vocab.vectors\n",
    "\n",
    "#[vocab size, embedding dim]\n",
    "print(pretrained_embeddings.shape)"
   ]
  },
  {
   "cell_type": "code",
   "execution_count": 22,
   "id": "f48ce414",
   "metadata": {},
   "outputs": [
    {
     "data": {
      "text/plain": [
       "tensor([[ 1.9269e+00,  1.4873e+00,  9.0072e-01,  ...,  6.3188e-01,\n",
       "          3.1253e-01, -3.3502e-02],\n",
       "        [ 1.3032e+00,  4.8787e-01,  1.1340e+00,  ..., -6.2644e-01,\n",
       "         -5.1509e-01,  6.9029e-01],\n",
       "        [ 3.5132e-01,  5.6084e-04, -2.1488e-01,  ...,  3.6684e-02,\n",
       "         -3.7206e-02,  8.5384e-01],\n",
       "        ...,\n",
       "        [-1.5163e+00,  2.7271e-01, -8.6883e-01,  ..., -9.3904e-01,\n",
       "         -1.3688e+00, -4.6220e-01],\n",
       "        [-1.2587e+00,  3.5036e-01,  4.9768e-01,  ..., -1.0621e+00,\n",
       "          2.8939e-01, -5.0899e-01],\n",
       "        [-1.5821e+00, -1.0924e+00,  9.2017e-01,  ..., -3.8838e-01,\n",
       "         -2.4814e+00, -3.6030e-01]])"
      ]
     },
     "execution_count": 22,
     "metadata": {},
     "output_type": "execute_result"
    }
   ],
   "source": [
    "#replace the initial weights of the embedding layer with the pre-trained embeddings\n",
    "\n",
    "model.embedding.weight.data.copy_(pretrained_embeddings)"
   ]
  },
  {
   "cell_type": "code",
   "execution_count": 23,
   "id": "97f63001",
   "metadata": {},
   "outputs": [
    {
     "name": "stdout",
     "output_type": "stream",
     "text": [
      "tensor([[ 0.0000e+00,  0.0000e+00,  0.0000e+00,  ...,  0.0000e+00,\n",
      "          0.0000e+00,  0.0000e+00],\n",
      "        [ 0.0000e+00,  0.0000e+00,  0.0000e+00,  ...,  0.0000e+00,\n",
      "          0.0000e+00,  0.0000e+00],\n",
      "        [ 3.5132e-01,  5.6084e-04, -2.1488e-01,  ...,  3.6684e-02,\n",
      "         -3.7206e-02,  8.5384e-01],\n",
      "        ...,\n",
      "        [-1.5163e+00,  2.7271e-01, -8.6883e-01,  ..., -9.3904e-01,\n",
      "         -1.3688e+00, -4.6220e-01],\n",
      "        [-1.2587e+00,  3.5036e-01,  4.9768e-01,  ..., -1.0621e+00,\n",
      "          2.8939e-01, -5.0899e-01],\n",
      "        [-1.5821e+00, -1.0924e+00,  9.2017e-01,  ..., -3.8838e-01,\n",
      "         -2.4814e+00, -3.6030e-01]])\n"
     ]
    }
   ],
   "source": [
    "#Manually setting <unk> and <pad> row in embedding weight matrix to zeros.\n",
    "\n",
    "UNK_IDX = TEXT.vocab.stoi[TEXT.unk_token]\n",
    "\n",
    "model.embedding.weight.data[UNK_IDX] = torch.zeros(EMBEDDING_DIM)\n",
    "model.embedding.weight.data[PAD_IDX] = torch.zeros(EMBEDDING_DIM)\n",
    "\n",
    "print(model.embedding.weight.data)"
   ]
  },
  {
   "cell_type": "code",
   "execution_count": 24,
   "id": "fbe0b07f",
   "metadata": {},
   "outputs": [],
   "source": [
    "#import torch.optim as optim\n",
    "import torch_optimizer as optim\n",
    "#from transformers import AdamW, get_linear_schedule_with_warmup\n",
    "\n",
    "N_EPOCHS = 100\n",
    "#total_steps = len(train_iterator) * N_EPOCHS\n",
    "\n",
    "model = model.to(device)\n",
    "\n",
    "optimizer = optim.MADGRAD(model.parameters(),lr=2e-3,                          \n",
    "                        momentum=0.9,\n",
    "                        weight_decay=0,\n",
    "                        eps=1e-6\n",
    ")\n",
    "\n",
    "criterion = nn.BCEWithLogitsLoss()\n",
    "criterion = criterion.to(device)\n",
    "\n",
    "#scheduler = get_linear_schedule_with_warmup(\n",
    "#  optimizer,\n",
    "#  num_warmup_steps=0,\n",
    "#  num_training_steps=total_steps\n",
    "#)"
   ]
  },
  {
   "cell_type": "code",
   "execution_count": 25,
   "id": "585b6cbd",
   "metadata": {},
   "outputs": [],
   "source": [
    "def binary_accuracy(preds, y):\n",
    "    \"\"\"\n",
    "    Returns accuracy per batch, i.e. if you get 8/10 right, this returns 0.8, NOT 8\n",
    "    \"\"\"\n",
    "\n",
    "    #round predictions to the closest integer\n",
    "    rounded_preds = torch.round(torch.sigmoid(preds))\n",
    "    correct = (rounded_preds == y).float() #convert into float for division \n",
    "    acc = correct.sum() / len(correct)\n",
    "    return acc"
   ]
  },
  {
   "cell_type": "code",
   "execution_count": 26,
   "id": "db164884",
   "metadata": {},
   "outputs": [],
   "source": [
    "import tqdm\n",
    "import sys\n",
    "\n",
    "def train(model, iterator, optimizer, criterion):\n",
    "    \n",
    "    epoch_loss = 0\n",
    "    epoch_acc = 0\n",
    "    \n",
    "    model.train()\n",
    "    \n",
    "    for batch in tqdm.tqdm(iterator, desc='training...', file=sys.stdout):\n",
    "        \n",
    "        optimizer.zero_grad()\n",
    "        \n",
    "        tweet, tweet_lengths = batch.tweet\n",
    "        \n",
    "        predictions = model(tweet, tweet_lengths).squeeze()\n",
    "        \n",
    "        loss = criterion(predictions, batch.label)\n",
    "        \n",
    "        acc = binary_accuracy(predictions, batch.label)\n",
    "        \n",
    "        loss.backward()\n",
    "        \n",
    "        optimizer.step()\n",
    "        \n",
    "        epoch_loss += loss.item()\n",
    "        epoch_acc += acc.item()\n",
    "        \n",
    "    return epoch_loss / len(iterator), epoch_acc / len(iterator)"
   ]
  },
  {
   "cell_type": "code",
   "execution_count": 27,
   "id": "52f3ae5c",
   "metadata": {},
   "outputs": [],
   "source": [
    "def evaluate(model, iterator, criterion):\n",
    "    \n",
    "    epoch_loss = 0\n",
    "    epoch_acc = 0\n",
    "    \n",
    "    model.eval()\n",
    "    \n",
    "    with torch.no_grad():\n",
    "    \n",
    "        for batch in tqdm.tqdm(iterator, desc='evaluating...', file=sys.stdout):\n",
    "\n",
    "            tweet, tweet_lengths = batch.tweet\n",
    "            \n",
    "            predictions = model(tweet, tweet_lengths).squeeze()\n",
    "            \n",
    "            loss = criterion(predictions, batch.label)\n",
    "            \n",
    "            acc = binary_accuracy(predictions, batch.label)\n",
    "\n",
    "            epoch_loss += loss.item()\n",
    "            epoch_acc += acc.item()\n",
    "        \n",
    "    return epoch_loss / len(iterator), epoch_acc / len(iterator)"
   ]
  },
  {
   "cell_type": "code",
   "execution_count": 28,
   "id": "1c7990f5",
   "metadata": {},
   "outputs": [],
   "source": [
    "import time\n",
    "\n",
    "def epoch_time(start_time, end_time):\n",
    "    elapsed_time = end_time - start_time\n",
    "    elapsed_mins = int(elapsed_time / 60)\n",
    "    elapsed_secs = int(elapsed_time - (elapsed_mins * 60))\n",
    "    return elapsed_mins, elapsed_secs"
   ]
  },
  {
   "cell_type": "code",
   "execution_count": 29,
   "id": "c0347f97",
   "metadata": {},
   "outputs": [
    {
     "name": "stdout",
     "output_type": "stream",
     "text": [
      "training...: 100%|██████████| 3390/3390 [00:53<00:00, 63.28it/s]\n",
      "evaluating...: 100%|██████████| 189/189 [00:01<00:00, 151.12it/s]\n",
      "Epoch: 01 | Epoch Time: 0m 54s) | Frozen? True\n",
      "\tTrain Loss: 0.196 | Train Acc: 92.13%\n",
      "\t Val. Loss: 0.166 |  Val. Acc: 93.37%\n",
      "training...: 100%|██████████| 3390/3390 [00:51<00:00, 66.29it/s]\n",
      "evaluating...: 100%|██████████| 189/189 [00:01<00:00, 149.22it/s]\n",
      "Epoch: 02 | Epoch Time: 0m 52s) | Frozen? True\n",
      "\tTrain Loss: 0.148 | Train Acc: 94.56%\n",
      "\t Val. Loss: 0.133 |  Val. Acc: 95.10%\n",
      "training...: 100%|██████████| 3390/3390 [00:53<00:00, 63.43it/s]\n",
      "evaluating...: 100%|██████████| 189/189 [00:01<00:00, 152.21it/s]\n",
      "Epoch: 03 | Epoch Time: 0m 54s) | Frozen? True\n",
      "\tTrain Loss: 0.136 | Train Acc: 95.05%\n",
      "\t Val. Loss: 0.123 |  Val. Acc: 95.55%\n",
      "training...: 100%|██████████| 3390/3390 [00:53<00:00, 63.44it/s]\n",
      "evaluating...: 100%|██████████| 189/189 [00:01<00:00, 152.47it/s]\n",
      "Epoch: 04 | Epoch Time: 0m 54s) | Frozen? True\n",
      "\tTrain Loss: 0.129 | Train Acc: 95.32%\n",
      "\t Val. Loss: 0.117 |  Val. Acc: 95.69%\n",
      "training...: 100%|██████████| 3390/3390 [00:53<00:00, 62.98it/s]\n",
      "evaluating...: 100%|██████████| 189/189 [00:01<00:00, 153.37it/s]\n",
      "Epoch: 05 | Epoch Time: 0m 55s) | Frozen? True\n",
      "\tTrain Loss: 0.125 | Train Acc: 95.48%\n",
      "\t Val. Loss: 0.114 |  Val. Acc: 95.85%\n",
      "training...: 100%|██████████| 3390/3390 [00:56<00:00, 59.70it/s]\n",
      "evaluating...: 100%|██████████| 189/189 [00:01<00:00, 154.85it/s]\n",
      "Counter 1 of 5\n",
      "Epoch: 06 | Epoch Time: 0m 58s) | Frozen? False\n",
      "\tTrain Loss: 0.121 | Train Acc: 95.61%\n",
      "\t Val. Loss: 0.114 |  Val. Acc: 95.88%\n",
      "training...: 100%|██████████| 3390/3390 [01:05<00:00, 51.77it/s]\n",
      "evaluating...: 100%|██████████| 189/189 [00:01<00:00, 154.35it/s]\n",
      "Epoch: 07 | Epoch Time: 1m 6s) | Frozen? False\n",
      "\tTrain Loss: 0.115 | Train Acc: 95.85%\n",
      "\t Val. Loss: 0.108 |  Val. Acc: 96.08%\n",
      "training...: 100%|██████████| 3390/3390 [01:05<00:00, 52.06it/s]\n",
      "evaluating...: 100%|██████████| 189/189 [00:01<00:00, 153.54it/s]\n",
      "Epoch: 08 | Epoch Time: 1m 6s) | Frozen? False\n",
      "\tTrain Loss: 0.110 | Train Acc: 96.03%\n",
      "\t Val. Loss: 0.106 |  Val. Acc: 96.17%\n",
      "training...: 100%|██████████| 3390/3390 [01:05<00:00, 52.13it/s]\n",
      "evaluating...: 100%|██████████| 189/189 [00:01<00:00, 149.68it/s]\n",
      "Counter 1 of 5\n",
      "Epoch: 09 | Epoch Time: 1m 6s) | Frozen? False\n",
      "\tTrain Loss: 0.106 | Train Acc: 96.14%\n",
      "\t Val. Loss: 0.106 |  Val. Acc: 96.13%\n",
      "training...: 100%|██████████| 3390/3390 [01:05<00:00, 51.96it/s]\n",
      "evaluating...: 100%|██████████| 189/189 [00:01<00:00, 159.75it/s]\n",
      "Epoch: 10 | Epoch Time: 1m 6s) | Frozen? False\n",
      "\tTrain Loss: 0.104 | Train Acc: 96.23%\n",
      "\t Val. Loss: 0.103 |  Val. Acc: 96.21%\n",
      "training...: 100%|██████████| 3390/3390 [01:04<00:00, 52.80it/s]\n",
      "evaluating...: 100%|██████████| 189/189 [00:01<00:00, 151.25it/s]\n",
      "Epoch: 11 | Epoch Time: 1m 5s) | Frozen? False\n",
      "\tTrain Loss: 0.102 | Train Acc: 96.30%\n",
      "\t Val. Loss: 0.102 |  Val. Acc: 96.31%\n",
      "training...: 100%|██████████| 3390/3390 [01:08<00:00, 49.18it/s]\n",
      "evaluating...: 100%|██████████| 189/189 [00:01<00:00, 153.61it/s]\n",
      "Epoch: 12 | Epoch Time: 1m 10s) | Frozen? False\n",
      "\tTrain Loss: 0.100 | Train Acc: 96.38%\n",
      "\t Val. Loss: 0.102 |  Val. Acc: 96.29%\n",
      "training...: 100%|██████████| 3390/3390 [01:04<00:00, 52.26it/s]\n",
      "evaluating...: 100%|██████████| 189/189 [00:01<00:00, 142.00it/s]\n",
      "Epoch: 13 | Epoch Time: 1m 6s) | Frozen? False\n",
      "\tTrain Loss: 0.097 | Train Acc: 96.46%\n",
      "\t Val. Loss: 0.102 |  Val. Acc: 96.34%\n",
      "training...: 100%|██████████| 3390/3390 [01:00<00:00, 55.70it/s]\n",
      "evaluating...: 100%|██████████| 189/189 [00:01<00:00, 160.80it/s]\n",
      "Epoch: 14 | Epoch Time: 1m 2s) | Frozen? False\n",
      "\tTrain Loss: 0.096 | Train Acc: 96.52%\n",
      "\t Val. Loss: 0.101 |  Val. Acc: 96.39%\n",
      "training...: 100%|██████████| 3390/3390 [01:00<00:00, 55.64it/s]\n",
      "evaluating...: 100%|██████████| 189/189 [00:01<00:00, 156.84it/s]\n",
      "Counter 1 of 5\n",
      "Epoch: 15 | Epoch Time: 1m 2s) | Frozen? False\n",
      "\tTrain Loss: 0.094 | Train Acc: 96.57%\n",
      "\t Val. Loss: 0.103 |  Val. Acc: 96.27%\n",
      "training...: 100%|██████████| 3390/3390 [01:00<00:00, 55.98it/s]\n",
      "evaluating...: 100%|██████████| 189/189 [00:01<00:00, 160.52it/s]\n",
      "Epoch: 16 | Epoch Time: 1m 1s) | Frozen? False\n",
      "\tTrain Loss: 0.093 | Train Acc: 96.64%\n",
      "\t Val. Loss: 0.100 |  Val. Acc: 96.44%\n",
      "training...: 100%|██████████| 3390/3390 [01:01<00:00, 55.45it/s]\n",
      "evaluating...: 100%|██████████| 189/189 [00:01<00:00, 157.84it/s]\n",
      "Counter 1 of 5\n",
      "Epoch: 17 | Epoch Time: 1m 2s) | Frozen? False\n",
      "\tTrain Loss: 0.091 | Train Acc: 96.67%\n",
      "\t Val. Loss: 0.100 |  Val. Acc: 96.44%\n",
      "training...: 100%|██████████| 3390/3390 [01:02<00:00, 54.44it/s]\n",
      "evaluating...: 100%|██████████| 189/189 [00:01<00:00, 161.36it/s]\n",
      "Counter 2 of 5\n",
      "Epoch: 18 | Epoch Time: 1m 3s) | Frozen? False\n",
      "\tTrain Loss: 0.090 | Train Acc: 96.73%\n",
      "\t Val. Loss: 0.101 |  Val. Acc: 96.41%\n",
      "training...: 100%|██████████| 3390/3390 [01:04<00:00, 52.42it/s]\n",
      "evaluating...: 100%|██████████| 189/189 [00:01<00:00, 157.59it/s]\n",
      "Counter 3 of 5\n",
      "Epoch: 19 | Epoch Time: 1m 5s) | Frozen? False\n",
      "\tTrain Loss: 0.088 | Train Acc: 96.78%\n",
      "\t Val. Loss: 0.102 |  Val. Acc: 96.35%\n",
      "training...: 100%|██████████| 3390/3390 [01:02<00:00, 54.27it/s]\n",
      "evaluating...: 100%|██████████| 189/189 [00:01<00:00, 159.38it/s]\n",
      "Counter 4 of 5\n",
      "Epoch: 20 | Epoch Time: 1m 3s) | Frozen? False\n",
      "\tTrain Loss: 0.087 | Train Acc: 96.84%\n",
      "\t Val. Loss: 0.101 |  Val. Acc: 96.49%\n",
      "training...: 100%|██████████| 3390/3390 [01:01<00:00, 55.43it/s]\n",
      "evaluating...: 100%|██████████| 189/189 [00:01<00:00, 160.40it/s]\n",
      "Counter 5 of 5\n",
      "Early stopping with best valid loss: 0.100 | Valid Loss this Epoch: 0.104 . . .\n"
     ]
    }
   ],
   "source": [
    "#FREEZE_FOR = 5\n",
    "\n",
    "best_valid_loss = float('inf')\n",
    "train_losses = []\n",
    "train_accs = []\n",
    "valid_losses = []\n",
    "valid_accs = []\n",
    "\n",
    "model.embedding.weight.requires_grad = unfrozen = False\n",
    "\n",
    "for epoch in range(N_EPOCHS):\n",
    "    \n",
    "    start_time = time.time()\n",
    "    \n",
    "    train_loss, train_acc = train(model, train_iterator, optimizer, criterion)\n",
    "    valid_loss, valid_acc = evaluate(model, valid_iterator, criterion)\n",
    "    \n",
    "    train_losses.append(train_loss)\n",
    "    train_accs.append(train_acc)\n",
    "    valid_losses.append(valid_loss)\n",
    "    valid_accs.append(valid_acc)\n",
    "    \n",
    "    end_time = time.time()\n",
    "\n",
    "    epoch_mins, epoch_secs = epoch_time(start_time, end_time)\n",
    "    \n",
    "    if valid_loss < best_valid_loss:\n",
    "        best_valid_loss = valid_loss\n",
    "        stop = 0\n",
    "        torch.save(model.state_dict(), 'LSTM-Cresci_GloVe.pt')\n",
    "    else:\n",
    "        model.embedding.weight.requires_grad = unfrozen = True\n",
    "        stop +=1\n",
    "        print(\"Counter {} of 5\".format(stop))\n",
    "        \n",
    "        if stop > 4:\n",
    "            print(f'Early stopping with best valid loss: {best_valid_loss:.3f} | Valid Loss this Epoch: {valid_loss:.3f} . . .' )\n",
    "            break\n",
    "\n",
    "    print(f'Epoch: {epoch+1:02} | Epoch Time: {epoch_mins}m {epoch_secs}s) | Frozen? {not unfrozen}')\n",
    "    print(f'\\tTrain Loss: {train_loss:.3f} | Train Acc: {train_acc*100:.2f}%')\n",
    "    print(f'\\t Val. Loss: {valid_loss:.3f} |  Val. Acc: {valid_acc*100:.2f}%')"
   ]
  },
  {
   "cell_type": "code",
   "execution_count": 30,
   "id": "e32d1411",
   "metadata": {},
   "outputs": [
    {
     "data": {
      "image/png": "[encoded data removed]",
      "text/plain": [
       "<Figure size 720x432 with 1 Axes>"
      ]
     },
     "metadata": {
      "needs_background": "light"
     },
     "output_type": "display_data"
    }
   ],
   "source": [
    "import matplotlib.pyplot as plt\n",
    "\n",
    "fig = plt.figure(figsize=(10,6))\n",
    "ax = fig.add_subplot(1,1,1)\n",
    "ax.plot(train_losses, label='train loss')\n",
    "ax.plot(valid_losses, label='valid loss')\n",
    "plt.legend()\n",
    "ax.set_xlabel('updates')\n",
    "ax.set_ylabel('loss');"
   ]
  },
  {
   "cell_type": "code",
   "execution_count": 31,
   "id": "644c8f89",
   "metadata": {},
   "outputs": [
    {
     "data": {
      "image/png": "[encoded data removed]",
      "text/plain": [
       "<Figure size 720x432 with 1 Axes>"
      ]
     },
     "metadata": {
      "needs_background": "light"
     },
     "output_type": "display_data"
    }
   ],
   "source": [
    "fig = plt.figure(figsize=(10,6))\n",
    "ax = fig.add_subplot(1,1,1)\n",
    "ax.plot(train_accs, label='train accuracy')\n",
    "ax.plot(valid_accs, label='valid accuracy')\n",
    "plt.legend()\n",
    "ax.set_xlabel('updates')\n",
    "ax.set_ylabel('accuracy');"
   ]
  },
  {
   "cell_type": "code",
   "execution_count": 29,
   "id": "f314a56d",
   "metadata": {},
   "outputs": [
    {
     "name": "stdout",
     "output_type": "stream",
     "text": [
      "evaluating...: 100%|██████████| 189/189 [00:02<00:00, 74.96it/s] \n",
      "Test Loss: 0.100 | Test Acc: 96.40%\n"
     ]
    }
   ],
   "source": [
    "model.load_state_dict(torch.load('LSTM-Cresci_GloVe.pt'))\n",
    "\n",
    "test_loss, test_acc = evaluate(model, test_iterator, criterion)\n",
    "\n",
    "print(f'Test Loss: {test_loss:.3f} | Test Acc: {test_acc*100:.2f}%')"
   ]
  },
  {
   "cell_type": "code",
   "execution_count": 30,
   "id": "f28bcf32",
   "metadata": {},
   "outputs": [],
   "source": [
    "import torch.nn.functional as F\n",
    "from sklearn.metrics import confusion_matrix, classification_report\n",
    "from sklearn.metrics import matthews_corrcoef\n",
    "from sklearn.metrics import roc_curve\n",
    "from sklearn.metrics import roc_auc_score\n",
    "import seaborn as sns\n",
    "import matplotlib.pyplot as plt\n",
    "\n",
    "def get_predictions(model, test_iterator):\n",
    "    model.eval()\n",
    "    \n",
    "    tweet_texts = []\n",
    "    predictions = []\n",
    "    prediction_probs = []\n",
    "    real_values = []\n",
    "    \n",
    "    with torch.no_grad():\n",
    "         for batch in test_iterator:\n",
    "            tweet, tweet_lengths = batch.tweet\n",
    "            labels = batch.label\n",
    "            outputs = model(tweet, tweet_lengths).squeeze()\n",
    "\n",
    "            preds = torch.round(torch.sigmoid(outputs))\n",
    "            probs = torch.sigmoid(outputs)\n",
    "\n",
    "            tweet_texts.extend(tweet)\n",
    "            predictions.extend(preds)\n",
    "            prediction_probs.extend(probs)\n",
    "            real_values.extend(labels)\n",
    "            \n",
    "    predictions = torch.stack(predictions).cpu()\n",
    "    prediction_probs = torch.stack(prediction_probs).cpu()\n",
    "    real_values = torch.stack(real_values).cpu()\n",
    "    return tweet_texts, predictions, prediction_probs, real_values"
   ]
  },
  {
   "cell_type": "code",
   "execution_count": 31,
   "id": "e0edcce5",
   "metadata": {},
   "outputs": [],
   "source": [
    "y_tweet_texts, y_pred, y_pred_probs, y_test = get_predictions(\n",
    "  model,\n",
    "  test_iterator\n",
    ")"
   ]
  },
  {
   "cell_type": "code",
   "execution_count": 52,
   "id": "2692d1ec",
   "metadata": {},
   "outputs": [
    {
     "name": "stdout",
     "output_type": "stream",
     "text": [
      "              precision    recall  f1-score   support\n",
      "\n",
      "         0.0     0.9687    0.9633    0.9660     51091\n",
      "         1.0     0.9589    0.9649    0.9619     45330\n",
      "\n",
      "    accuracy                         0.9641     96421\n",
      "   macro avg     0.9638    0.9641    0.9640     96421\n",
      "weighted avg     0.9641    0.9641    0.9641     96421\n",
      "\n"
     ]
    }
   ],
   "source": [
    "class_names = ['Human', 'Bot']\n",
    "print(classification_report(y_test, y_pred, digits=4, labels=(0,1), target_names=class_names))"
   ]
  },
  {
   "cell_type": "code",
   "execution_count": 47,
   "id": "5e8fc12f",
   "metadata": {},
   "outputs": [
    {
     "name": "stdout",
     "output_type": "stream",
     "text": [
      "              precision    recall  f1-score   support\n",
      "\n",
      "         0.0     0.9687    0.9633    0.9660     51091\n",
      "         1.0     0.9589    0.9649    0.9619     45330\n",
      "\n",
      "    accuracy                         0.9641     96421\n",
      "   macro avg     0.9638    0.9641    0.9640     96421\n",
      "weighted avg     0.9641    0.9641    0.9641     96421\n",
      "\n"
     ]
    }
   ],
   "source": [
    "print(classification_report(y_test, y_pred, digits=4))"
   ]
  },
  {
   "cell_type": "code",
   "execution_count": 32,
   "id": "ad44b511",
   "metadata": {},
   "outputs": [
    {
     "data": {
      "image/png": "[encoded data removed]",
      "text/plain": [
       "<Figure size 432x288 with 2 Axes>"
      ]
     },
     "metadata": {
      "needs_background": "light"
     },
     "output_type": "display_data"
    }
   ],
   "source": [
    "import matplotlib.pyplot as plt\n",
    "import pandas as pd\n",
    "\n",
    "class_names = ['Human', 'Bot']\n",
    "\n",
    "def show_confusion_matrix(confusion_matrix):\n",
    "  hmap = sns.heatmap(confusion_matrix, annot=True, fmt=\"d\", cmap=\"Blues\")\n",
    "  hmap.yaxis.set_ticklabels(hmap.yaxis.get_ticklabels(), rotation=0, ha='right')\n",
    "  hmap.xaxis.set_ticklabels(hmap.xaxis.get_ticklabels(), rotation=30, ha='right')\n",
    "  plt.ylabel('TRUE')\n",
    "  plt.xlabel('PREDICTED');\n",
    "\n",
    "cm = confusion_matrix(y_test, y_pred)\n",
    "df_cm = pd.DataFrame(cm, index=class_names, columns=class_names)\n",
    "show_confusion_matrix(df_cm)"
   ]
  },
  {
   "cell_type": "code",
   "execution_count": 37,
   "id": "fdec1085",
   "metadata": {},
   "outputs": [
    {
     "data": {
      "text/plain": [
       "0.9279742987833405"
      ]
     },
     "execution_count": 37,
     "metadata": {},
     "output_type": "execute_result"
    }
   ],
   "source": [
    "from sklearn.metrics import matthews_corrcoef\n",
    "matthews_corrcoef(y_test, y_pred)"
   ]
  },
  {
   "cell_type": "code",
   "execution_count": 38,
   "id": "4accfeca",
   "metadata": {},
   "outputs": [
    {
     "name": "stdout",
     "output_type": "stream",
     "text": [
      "AUC Score\n",
      "0.964142937395464\n"
     ]
    },
    {
     "data": {
      "image/png": "[encoded data removed]",
      "text/plain": [
       "<Figure size 576x396 with 1 Axes>"
      ]
     },
     "metadata": {},
     "output_type": "display_data"
    }
   ],
   "source": [
    "    plt.style.use('seaborn')\n",
    "\n",
    "    fpr1, tpr1, thresh1 = roc_curve(y_test, y_pred, pos_label=1)\n",
    "\n",
    "    random_probs = [0 for i in range(len(y_test))]\n",
    "    p_fpr, p_tpr, _ = roc_curve(y_test, random_probs, pos_label=1)\n",
    "    auc_score = roc_auc_score(y_test, y_pred)\n",
    "    print('AUC Score')\n",
    "    print(auc_score)\n",
    "    \n",
    "    # plot roc curves\n",
    "    plt.plot(fpr1, tpr1, linestyle='--',color='orange', label='LSTM')\n",
    "    plt.plot(p_fpr, p_tpr, linestyle='--', color='blue')\n",
    "    # title\n",
    "    plt.title('ROC curve')\n",
    "    # x label\n",
    "    plt.xlabel('False Positive Rate')\n",
    "    # y label\n",
    "    plt.ylabel('True Positive rate')\n",
    "\n",
    "    plt.legend(loc='best')\n",
    "    plt.savefig('ROC',dpi=300)\n",
    "    plt.show();"
   ]
  },
  {
   "cell_type": "code",
   "execution_count": null,
   "id": "ca426680",
   "metadata": {},
   "outputs": [],
   "source": []
  }
 ],
 "metadata": {
  "kernelspec": {
   "display_name": "Python 3",
   "language": "python",
   "name": "python3"
  },
  "language_info": {
   "codemirror_mode": {
    "name": "ipython",
    "version": 3
   },
   "file_extension": ".py",
   "mimetype": "text/x-python",
   "name": "python",
   "nbconvert_exporter": "python",
   "pygments_lexer": "ipython3",
   "version": "3.7.11"
  }
 },
 "nbformat": 4,
 "nbformat_minor": 5
}
