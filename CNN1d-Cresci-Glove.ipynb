{
 "cells": [
  {
   "cell_type": "code",
   "execution_count": 1,
   "id": "68a39e39",
   "metadata": {},
   "outputs": [],
   "source": [
    "import torch\n",
    "from torchtext.legacy import data\n",
    "from torchtext.legacy import datasets\n",
    "import random\n",
    "import numpy as np\n",
    "import tqdm\n",
    "import sys"
   ]
  },
  {
   "cell_type": "code",
   "execution_count": 2,
   "id": "cc33f1d0",
   "metadata": {},
   "outputs": [],
   "source": [
    "from emoji import demojize\n",
    "from nltk.tokenize import TweetTokenizer\n",
    "\n",
    "tokenizer = TweetTokenizer()\n",
    "\n",
    "def normalizeToken(token):\n",
    "    lowercased_token = token.lower()\n",
    "    if token.startswith(\"@\"):\n",
    "        return \"@USER\"\n",
    "    elif lowercased_token.startswith(\"http\") or lowercased_token.startswith(\"www\"):\n",
    "        return \"HTTPURL\"\n",
    "    elif len(token) == 1:\n",
    "        return demojize(token)\n",
    "    else:  \n",
    "        return token\n",
    "\n",
    "\n",
    "def normalizeTweet(tweet):\n",
    "    tokens = tokenizer.tokenize(str(tweet).replace(\"’\", \"'\").replace(\"…\", \"...\"))\n",
    "    normTweet = \" \".join([normalizeToken(token) for token in tokens])\n",
    "\n",
    "    normTweet = (\n",
    "        normTweet.replace(\"cannot \", \"can not \")\n",
    "        .replace(\"n't \", \" n't \")\n",
    "        .replace(\"n 't \", \" n't \")\n",
    "        .replace(\"ca n't\", \"can't\")\n",
    "        .replace(\"ai n't\", \"ain't\")\n",
    "    )\n",
    "    normTweet = (\n",
    "        normTweet.replace(\"'m \", \" 'm \")\n",
    "        .replace(\"'re \", \" 're \")\n",
    "        .replace(\"'s \", \" 's \")\n",
    "        .replace(\"'ll \", \" 'll \")\n",
    "        .replace(\"'d \", \" 'd \")\n",
    "        .replace(\"'ve \", \" 've \")\n",
    "    )\n",
    "    normTweet = (\n",
    "        normTweet.replace(\" p . m .\", \"  p.m.\")\n",
    "        .replace(\" p . m \", \" p.m \")\n",
    "        .replace(\" a . m .\", \" a.m.\")\n",
    "        .replace(\" a . m \", \" a.m \")\n",
    "    )\n",
    "\n",
    "    return normTweet.split(' ')"
   ]
  },
  {
   "cell_type": "code",
   "execution_count": 3,
   "id": "afbc8930",
   "metadata": {},
   "outputs": [],
   "source": [
    "SEED = 42\n",
    "\n",
    "torch.manual_seed(SEED)\n",
    "torch.backends.cudnn.deterministic = True\n",
    "\n",
    "TEXT = data.Field(tokenize = normalizeTweet, batch_first= True)\n",
    "\n",
    "LABEL = data.LabelField(dtype = torch.float)"
   ]
  },
  {
   "cell_type": "code",
   "execution_count": 4,
   "id": "c29071f6",
   "metadata": {},
   "outputs": [],
   "source": [
    "dataset = data.TabularDataset(path='cresci-sampled.csv',format='csv',\n",
    "                            skip_header=True,\n",
    "                            fields=[('tweet',TEXT), ('label',LABEL)])"
   ]
  },
  {
   "cell_type": "code",
   "execution_count": 5,
   "id": "4b8970c1",
   "metadata": {},
   "outputs": [],
   "source": [
    "import random\n",
    "\n",
    "train_data, valid_data = dataset.split(split_ratio=0.9, random_state = random.seed(SEED))"
   ]
  },
  {
   "cell_type": "code",
   "execution_count": 6,
   "id": "e85737a0",
   "metadata": {},
   "outputs": [
    {
     "name": "stdout",
     "output_type": "stream",
     "text": [
      "Number of training examples: 1735572\n",
      "Number of validation examples: 192841\n"
     ]
    }
   ],
   "source": [
    "print(f'Number of training examples: {len(train_data)}')\n",
    "print(f'Number of validation examples: {len(valid_data)}')"
   ]
  },
  {
   "cell_type": "code",
   "execution_count": 7,
   "id": "f632b144",
   "metadata": {},
   "outputs": [],
   "source": [
    "valid_data, test_data = valid_data.split(split_ratio=0.5,random_state = random.seed(SEED))"
   ]
  },
  {
   "cell_type": "code",
   "execution_count": 8,
   "id": "5363d1f8",
   "metadata": {},
   "outputs": [
    {
     "name": "stdout",
     "output_type": "stream",
     "text": [
      "Number of training examples: 1735572\n",
      "Number of validation examples: 96420\n",
      "Number of testing examples: 96421\n"
     ]
    }
   ],
   "source": [
    "print(f'Number of training examples: {len(train_data)}')\n",
    "print(f'Number of validation examples: {len(valid_data)}')\n",
    "print(f'Number of testing examples: {len(test_data)}')"
   ]
  },
  {
   "cell_type": "code",
   "execution_count": 9,
   "id": "83d18c82",
   "metadata": {},
   "outputs": [],
   "source": [
    "#MAX_VOCAB_SIZE = 20_000\n",
    "\n",
    "TEXT.build_vocab(train_data, \n",
    "                 min_freq = 5,\n",
    "                 #max_size = MAX_VOCAB_SIZE,\n",
    "                 vectors = \"glove.twitter.27B.200d\",\n",
    "                 unk_init = torch.Tensor.normal_)\n",
    "\n",
    "LABEL.build_vocab(train_data)"
   ]
  },
  {
   "cell_type": "code",
   "execution_count": 10,
   "id": "62aecd0e",
   "metadata": {},
   "outputs": [
    {
     "name": "stdout",
     "output_type": "stream",
     "text": [
      "Unique tokens in TEXT vocabulary: 105329\n",
      "Unique tokens in LABEL vocabulary: 2\n"
     ]
    }
   ],
   "source": [
    "print(f\"Unique tokens in TEXT vocabulary: {len(TEXT.vocab)}\")\n",
    "print(f\"Unique tokens in LABEL vocabulary: {len(LABEL.vocab)}\")"
   ]
  },
  {
   "cell_type": "code",
   "execution_count": 11,
   "id": "dc8e78f5",
   "metadata": {},
   "outputs": [
    {
     "name": "stdout",
     "output_type": "stream",
     "text": [
      "[('.', 996667), ('@USER', 743664), (',', 563826), ('HTTPURL', 426639), (':', 403397), ('-', 402786), ('the', 387372), ('!', 366903), ('a', 344324), ('\"', 336257), ('to', 307316), ('I', 302606), ('RT', 248349), ('?', 240784), ('you', 210006), ('of', 208740), ('in', 206461), ('is', 197808), ('and', 170712), ('\\x80', 157298), ('che', 155708), ('di', 154508), ('¨', 144074), ('for', 121055), ('it', 120818), (\"'s\", 119705), ('...', 118018), ('Ã', 117123), ('ã', 108741), ('non', 106995)]\n"
     ]
    }
   ],
   "source": [
    "print(TEXT.vocab.freqs.most_common(30))"
   ]
  },
  {
   "cell_type": "code",
   "execution_count": 12,
   "id": "41d6b77d",
   "metadata": {},
   "outputs": [
    {
     "name": "stdout",
     "output_type": "stream",
     "text": [
      "['<unk>', '<pad>', '.', '@USER', ',', 'HTTPURL', ':', '-', 'the', '!', 'a', '\"', 'to', 'I', 'RT', '?', 'you', 'of', 'in', 'is', 'and', '\\x80', 'che', 'di', '¨', 'for', 'it', \"'s\", '...', 'Ã', 'ã', 'non', 'la', 'â', 'e', 'that', 'il', 'un', '\\x81', 'on', 'my', 'me', \"'\", \"n't\", 'Ù', 'Ø', 'The', 'your', 'do', 'i', 'be', 'are', 'à', 'with', 'per', '¤', 'have', 'not', 'this', 'Ð', 'una', '¦', 'le', 'si', '¹', 'so', 'at', 'A', ')', 'like', 'but', 'out', '\\x82', \"'m\", 'what', '\\x9c', 'can', 'was', 'just', ':copyright:', 'get', 'con', 'sono', 'all', '&', 'mi', 'se', 'about', '²', '\\x99', 'one', '§', 'we', 'when', 'Read', 'come', '\\x9d', 'You', 'as', 'they']\n"
     ]
    }
   ],
   "source": [
    "print(TEXT.vocab.itos[:100])"
   ]
  },
  {
   "cell_type": "code",
   "execution_count": 13,
   "id": "a5f549d7",
   "metadata": {},
   "outputs": [
    {
     "name": "stdout",
     "output_type": "stream",
     "text": [
      "{'tweet': ['Tips', 'To', 'Draw', 'More', 'Traffic', 'With', 'Quality', 'Link', 'Building', 'HTTPURL'], 'label': '1'}\n"
     ]
    }
   ],
   "source": [
    "print(vars(train_data.examples[5000]))"
   ]
  },
  {
   "cell_type": "code",
   "execution_count": 14,
   "id": "10a3eee0",
   "metadata": {},
   "outputs": [],
   "source": [
    "BATCH_SIZE = 512\n",
    "\n",
    "#placing the tensors on the GPU if one is available\n",
    "device = torch.device('cuda' if torch.cuda.is_available() else 'cpu')\n",
    "\n",
    "train_iterator, valid_iterator, test_iterator = data.BucketIterator.splits(\n",
    "    (train_data, valid_data, test_data), \n",
    "    batch_size = BATCH_SIZE,\n",
    "    repeat = False,\n",
    "    shuffle = False,\n",
    "    sort = False,\n",
    "    sort_within_batch = False,\n",
    "    #sort_key = lambda x: len(x.tweet),\n",
    "    device = device)"
   ]
  },
  {
   "cell_type": "code",
   "execution_count": 15,
   "id": "9e4a23dd",
   "metadata": {},
   "outputs": [],
   "source": [
    "import torch.nn as nn\n",
    "\n",
    "class CNN(nn.Module):\n",
    "    def __init__(self, input_dim, emb_dim, n_filters, filter_sizes, output_dim, dropout, pad_idx):\n",
    "        super().__init__()\n",
    "\n",
    "        self.embedding = nn.Embedding(input_dim, emb_dim, padding_idx = pad_idx)\n",
    "        self.convs = nn.ModuleList([nn.Conv1d(in_channels = emb_dim,\n",
    "                                              out_channels = n_filters,\n",
    "                                              kernel_size = filter_size)\n",
    "                                    for filter_size in filter_sizes])\n",
    "        self.fc = nn.Linear(len(filter_sizes) * n_filters, output_dim)\n",
    "        self.dropout = nn.Dropout(dropout)\n",
    "\n",
    "    def forward(self, text):\n",
    "\n",
    "        # text = [batch size, seq len]\n",
    "                \n",
    "        embedded = self.dropout(self.embedding(text))\n",
    "\n",
    "        # embedded = [batch size, seq len, emb dim]\n",
    "\n",
    "        embedded = embedded.permute(0, 2, 1)\n",
    "\n",
    "        # embedded = [batch size, emb dim, seq len]\n",
    "\n",
    "        conved = [torch.relu(conv(embedded)) for conv in self.convs]\n",
    "\n",
    "        # conved[n] = [batch size, n filters, seq len - filter_sizes[n] + 1]\n",
    "\n",
    "        pooled = [torch.max_pool1d(conv, conv.shape[-1]).squeeze(-1) for conv in conved]\n",
    "\n",
    "        # pooled[n] = [batch size, n filters]\n",
    "\n",
    "        cat = torch.cat(pooled, dim = -1)\n",
    "\n",
    "        # cat = [batch size, n filters * len(filter_sizes)]\n",
    "\n",
    "        prediction = self.fc(self.dropout(cat))\n",
    "\n",
    "        # prediction = [batch size, output dim]\n",
    "\n",
    "        return prediction"
   ]
  },
  {
   "cell_type": "code",
   "execution_count": 16,
   "id": "afbc73bc",
   "metadata": {},
   "outputs": [],
   "source": [
    "INPUT_DIM = len(TEXT.vocab)\n",
    "EMBEDDING_DIM = 200\n",
    "N_FILTERS = 100\n",
    "FILTER_SIZES = [2, 3, 5, 7]\n",
    "OUTPUT_DIM = 1\n",
    "DROPOUT = 0.25\n",
    "PAD_IDX = TEXT.vocab.stoi[TEXT.pad_token]\n",
    "\n",
    "model = CNN(INPUT_DIM, EMBEDDING_DIM, N_FILTERS, FILTER_SIZES, OUTPUT_DIM, DROPOUT, PAD_IDX)"
   ]
  },
  {
   "cell_type": "code",
   "execution_count": 17,
   "id": "8e5c94af",
   "metadata": {},
   "outputs": [
    {
     "name": "stdout",
     "output_type": "stream",
     "text": [
      "The model has 21,406,601 trainable parameters\n"
     ]
    }
   ],
   "source": [
    "def count_parameters(model):\n",
    "    return sum(p.numel() for p in model.parameters() if p.requires_grad)\n",
    "\n",
    "print(f'The model has {count_parameters(model):,} trainable parameters')"
   ]
  },
  {
   "cell_type": "code",
   "execution_count": 18,
   "id": "cbbeda0f",
   "metadata": {},
   "outputs": [
    {
     "name": "stdout",
     "output_type": "stream",
     "text": [
      "name: embedding.weight, shape: torch.Size([105329, 200])\n",
      "name: convs.0.weight, shape: torch.Size([100, 200, 2])\n",
      "name: convs.0.bias, shape: torch.Size([100])\n",
      "name: convs.1.weight, shape: torch.Size([100, 200, 3])\n",
      "name: convs.1.bias, shape: torch.Size([100])\n",
      "name: convs.2.weight, shape: torch.Size([100, 200, 5])\n",
      "name: convs.2.bias, shape: torch.Size([100])\n",
      "name: convs.3.weight, shape: torch.Size([100, 200, 7])\n",
      "name: convs.3.bias, shape: torch.Size([100])\n",
      "name: fc.weight, shape: torch.Size([1, 400])\n",
      "name: fc.bias, shape: torch.Size([1])\n"
     ]
    }
   ],
   "source": [
    "for n, p in model.named_parameters():\n",
    "    print(f'name: {n}, shape: {p.shape}')"
   ]
  },
  {
   "cell_type": "code",
   "execution_count": 19,
   "id": "95a613af",
   "metadata": {},
   "outputs": [],
   "source": [
    "def initialize_weights(m):\n",
    "    if isinstance(m, nn.Linear):\n",
    "        nn.init.xavier_normal_(m.weight)\n",
    "        nn.init.zeros_(m.bias)\n",
    "    elif isinstance(m, nn.Conv1d):\n",
    "        nn.init.kaiming_normal_(m.weight, nonlinearity='relu')\n",
    "        nn.init.zeros_(m.bias)"
   ]
  },
  {
   "cell_type": "code",
   "execution_count": 20,
   "id": "65829565",
   "metadata": {},
   "outputs": [
    {
     "data": {
      "text/plain": [
       "CNN(\n",
       "  (embedding): Embedding(105329, 200, padding_idx=1)\n",
       "  (convs): ModuleList(\n",
       "    (0): Conv1d(200, 100, kernel_size=(2,), stride=(1,))\n",
       "    (1): Conv1d(200, 100, kernel_size=(3,), stride=(1,))\n",
       "    (2): Conv1d(200, 100, kernel_size=(5,), stride=(1,))\n",
       "    (3): Conv1d(200, 100, kernel_size=(7,), stride=(1,))\n",
       "  )\n",
       "  (fc): Linear(in_features=400, out_features=1, bias=True)\n",
       "  (dropout): Dropout(p=0.25, inplace=False)\n",
       ")"
      ]
     },
     "execution_count": 20,
     "metadata": {},
     "output_type": "execute_result"
    }
   ],
   "source": [
    "model.apply(initialize_weights)"
   ]
  },
  {
   "cell_type": "code",
   "execution_count": 21,
   "id": "2c97a004",
   "metadata": {},
   "outputs": [
    {
     "name": "stdout",
     "output_type": "stream",
     "text": [
      "torch.Size([105329, 200])\n"
     ]
    }
   ],
   "source": [
    "pretrained_embeddings = TEXT.vocab.vectors\n",
    "\n",
    "#[vocab size, embedding dim]\n",
    "print(pretrained_embeddings.shape)"
   ]
  },
  {
   "cell_type": "code",
   "execution_count": 22,
   "id": "c912e74f",
   "metadata": {},
   "outputs": [
    {
     "data": {
      "text/plain": [
       "tensor([[ 1.9269e+00,  1.4873e+00,  9.0072e-01,  ...,  6.3188e-01,\n",
       "          3.1253e-01, -3.3502e-02],\n",
       "        [ 1.3032e+00,  4.8787e-01,  1.1340e+00,  ..., -6.2644e-01,\n",
       "         -5.1509e-01,  6.9029e-01],\n",
       "        [ 3.5132e-01,  5.6084e-04, -2.1488e-01,  ...,  3.6684e-02,\n",
       "         -3.7206e-02,  8.5384e-01],\n",
       "        ...,\n",
       "        [-1.5163e+00,  2.7271e-01, -8.6883e-01,  ..., -9.3904e-01,\n",
       "         -1.3688e+00, -4.6220e-01],\n",
       "        [-1.2587e+00,  3.5036e-01,  4.9768e-01,  ..., -1.0621e+00,\n",
       "          2.8939e-01, -5.0899e-01],\n",
       "        [-1.5821e+00, -1.0924e+00,  9.2017e-01,  ..., -3.8838e-01,\n",
       "         -2.4814e+00, -3.6030e-01]])"
      ]
     },
     "execution_count": 22,
     "metadata": {},
     "output_type": "execute_result"
    }
   ],
   "source": [
    "model.embedding.weight.data.copy_(pretrained_embeddings)"
   ]
  },
  {
   "cell_type": "code",
   "execution_count": 23,
   "id": "97832156",
   "metadata": {},
   "outputs": [
    {
     "name": "stdout",
     "output_type": "stream",
     "text": [
      "tensor([[ 0.0000e+00,  0.0000e+00,  0.0000e+00,  ...,  0.0000e+00,\n",
      "          0.0000e+00,  0.0000e+00],\n",
      "        [ 0.0000e+00,  0.0000e+00,  0.0000e+00,  ...,  0.0000e+00,\n",
      "          0.0000e+00,  0.0000e+00],\n",
      "        [ 3.5132e-01,  5.6084e-04, -2.1488e-01,  ...,  3.6684e-02,\n",
      "         -3.7206e-02,  8.5384e-01],\n",
      "        ...,\n",
      "        [-1.5163e+00,  2.7271e-01, -8.6883e-01,  ..., -9.3904e-01,\n",
      "         -1.3688e+00, -4.6220e-01],\n",
      "        [-1.2587e+00,  3.5036e-01,  4.9768e-01,  ..., -1.0621e+00,\n",
      "          2.8939e-01, -5.0899e-01],\n",
      "        [-1.5821e+00, -1.0924e+00,  9.2017e-01,  ..., -3.8838e-01,\n",
      "         -2.4814e+00, -3.6030e-01]])\n"
     ]
    }
   ],
   "source": [
    "#Manually setting <unk> and <pad> row in embedding weight matrix to zeros.\n",
    "\n",
    "UNK_IDX = TEXT.vocab.stoi[TEXT.unk_token]\n",
    "\n",
    "model.embedding.weight.data[UNK_IDX] = torch.zeros(EMBEDDING_DIM)\n",
    "model.embedding.weight.data[PAD_IDX] = torch.zeros(EMBEDDING_DIM)\n",
    "\n",
    "print(model.embedding.weight.data)"
   ]
  },
  {
   "cell_type": "code",
   "execution_count": 24,
   "id": "c2bf1051",
   "metadata": {},
   "outputs": [],
   "source": [
    "import torch.optim as optim\n",
    "import torch_optimizer as optim\n",
    "#from transformers import AdamW, get_linear_schedule_with_warmup\n",
    "\n",
    "N_EPOCHS = 100\n",
    "#total_steps = len(train_iterator) * N_EPOCHS\n",
    "\n",
    "model = model.to(device)\n",
    "\n",
    "optimizer = optim.MADGRAD(model.parameters(),lr=2e-3,                          \n",
    "                        momentum=0.9,\n",
    "                        weight_decay=0,\n",
    "                        eps=1e-6\n",
    ")\n",
    "\n",
    "criterion = nn.BCEWithLogitsLoss()\n",
    "criterion = criterion.to(device)\n",
    "\n",
    "#scheduler = get_linear_schedule_with_warmup(\n",
    "#  optimizer,\n",
    "#  num_warmup_steps=0,\n",
    "#  num_training_steps=total_steps\n",
    "#)"
   ]
  },
  {
   "cell_type": "code",
   "execution_count": 25,
   "id": "4cee3df7",
   "metadata": {},
   "outputs": [],
   "source": [
    "def calculate_accuracy(predictions, labels):\n",
    "    top_predictions = predictions.argmax(1, keepdim = True)\n",
    "    correct = top_predictions.eq(labels.view_as(top_predictions)).sum()\n",
    "    accuracy = correct.float() / labels.shape[0]\n",
    "    return accuracy\n",
    "\n",
    "def binary_accuracy(preds, y):\n",
    "    \"\"\"\n",
    "    Returns accuracy per batch, i.e. if you get 8/10 right, this returns 0.8, NOT 8\n",
    "    \"\"\"\n",
    "\n",
    "    #round predictions to the closest integer\n",
    "    rounded_preds = torch.round(torch.sigmoid(preds))\n",
    "    correct = (rounded_preds == y).float() #convert into float for division \n",
    "    acc = correct.sum() / len(correct)\n",
    "    return acc"
   ]
  },
  {
   "cell_type": "code",
   "execution_count": 26,
   "id": "9ba93cec",
   "metadata": {},
   "outputs": [],
   "source": [
    "def train(model, iterator, optimizer, criterion):\n",
    "    \n",
    "    epoch_loss = 0\n",
    "    epoch_acc = 0\n",
    "    \n",
    "    model.train()\n",
    "    \n",
    "    for batch in tqdm.tqdm(iterator, desc='training...', file=sys.stdout):\n",
    "        \n",
    "        optimizer.zero_grad()\n",
    "        \n",
    "        predictions = model(batch.tweet).squeeze(1)\n",
    "        \n",
    "        loss = criterion(predictions, batch.label)\n",
    "        \n",
    "        acc = binary_accuracy(predictions, batch.label)\n",
    "        \n",
    "        loss.backward()\n",
    "        #nn.utils.clip_grad_norm_(model.parameters(), max_norm=1.0)\n",
    "        optimizer.step()\n",
    "        #scheduler.step()\n",
    "        \n",
    "        epoch_loss += loss.item()\n",
    "        epoch_acc += acc.item()\n",
    "        \n",
    "    return epoch_loss / len(iterator), epoch_acc / len(iterator)"
   ]
  },
  {
   "cell_type": "code",
   "execution_count": 27,
   "id": "6de3e950",
   "metadata": {},
   "outputs": [],
   "source": [
    "def evaluate(model, iterator, criterion):\n",
    "    \n",
    "    epoch_loss = 0\n",
    "    epoch_acc = 0\n",
    "    \n",
    "    model.eval()\n",
    "    \n",
    "    with torch.no_grad():\n",
    "    \n",
    "        for batch in tqdm.tqdm(iterator, desc='evaluating...', file=sys.stdout):\n",
    "\n",
    "            predictions = model(batch.tweet).squeeze(1)\n",
    "            \n",
    "            loss = criterion(predictions, batch.label)\n",
    "            \n",
    "            acc = binary_accuracy(predictions, batch.label)\n",
    "\n",
    "            epoch_loss += loss.item()\n",
    "            epoch_acc += acc.item()\n",
    "        \n",
    "    return epoch_loss / len(iterator), epoch_acc / len(iterator)"
   ]
  },
  {
   "cell_type": "code",
   "execution_count": 28,
   "id": "d64373e0",
   "metadata": {},
   "outputs": [],
   "source": [
    "import time\n",
    "\n",
    "def epoch_time(start_time, end_time):\n",
    "    elapsed_time = end_time - start_time\n",
    "    elapsed_mins = int(elapsed_time / 60)\n",
    "    elapsed_secs = int(elapsed_time - (elapsed_mins * 60))\n",
    "    return elapsed_mins, elapsed_secs"
   ]
  },
  {
   "cell_type": "code",
   "execution_count": 29,
   "id": "5c204210",
   "metadata": {},
   "outputs": [
    {
     "name": "stdout",
     "output_type": "stream",
     "text": [
      "training...: 100%|██████████| 3390/3390 [01:54<00:00, 29.67it/s]\n",
      "evaluating...: 100%|██████████| 189/189 [00:03<00:00, 62.47it/s]\n",
      "Epoch: 01 | Epoch Time: 1m 57s) | Frozen? True\n",
      "\tTrain Loss: 0.203 | Train Acc: 92.47%\n",
      "\t Val. Loss: 0.145 |  Val. Acc: 94.66%\n",
      "training...: 100%|██████████| 3390/3390 [01:53<00:00, 29.94it/s]\n",
      "evaluating...: 100%|██████████| 189/189 [00:02<00:00, 63.69it/s]\n",
      "Epoch: 02 | Epoch Time: 1m 56s) | Frozen? True\n",
      "\tTrain Loss: 0.172 | Train Acc: 93.95%\n",
      "\t Val. Loss: 0.138 |  Val. Acc: 95.32%\n",
      "training...: 100%|██████████| 3390/3390 [01:53<00:00, 29.92it/s]\n",
      "evaluating...: 100%|██████████| 189/189 [00:02<00:00, 63.44it/s]\n",
      "Epoch: 03 | Epoch Time: 1m 56s) | Frozen? True\n",
      "\tTrain Loss: 0.164 | Train Acc: 94.27%\n",
      "\t Val. Loss: 0.134 |  Val. Acc: 95.37%\n",
      "training...: 100%|██████████| 3390/3390 [01:51<00:00, 30.41it/s]\n",
      "evaluating...: 100%|██████████| 189/189 [00:02<00:00, 63.09it/s]\n",
      "Epoch: 04 | Epoch Time: 1m 54s) | Frozen? True\n",
      "\tTrain Loss: 0.160 | Train Acc: 94.42%\n",
      "\t Val. Loss: 0.131 |  Val. Acc: 95.45%\n",
      "training...: 100%|██████████| 3390/3390 [01:53<00:00, 29.99it/s]\n",
      "evaluating...: 100%|██████████| 189/189 [00:03<00:00, 61.41it/s]\n",
      "Epoch: 05 | Epoch Time: 1m 56s) | Frozen? True\n",
      "\tTrain Loss: 0.156 | Train Acc: 94.55%\n",
      "\t Val. Loss: 0.129 |  Val. Acc: 95.50%\n",
      "training...: 100%|██████████| 3390/3390 [01:59<00:00, 28.26it/s]\n",
      "evaluating...: 100%|██████████| 189/189 [00:03<00:00, 60.92it/s]\n",
      "Epoch: 06 | Epoch Time: 2m 3s) | Frozen? True\n",
      "\tTrain Loss: 0.153 | Train Acc: 94.64%\n",
      "\t Val. Loss: 0.129 |  Val. Acc: 95.51%\n",
      "training...: 100%|██████████| 3390/3390 [01:57<00:00, 28.75it/s]\n",
      "evaluating...: 100%|██████████| 189/189 [00:03<00:00, 60.26it/s]\n",
      "Epoch: 07 | Epoch Time: 2m 1s) | Frozen? True\n",
      "\tTrain Loss: 0.152 | Train Acc: 94.72%\n",
      "\t Val. Loss: 0.127 |  Val. Acc: 95.64%\n",
      "training...: 100%|██████████| 3390/3390 [02:01<00:00, 28.00it/s]\n",
      "evaluating...: 100%|██████████| 189/189 [00:03<00:00, 56.47it/s]\n",
      "Counter 1 of 5\n",
      "Epoch: 08 | Epoch Time: 2m 4s) | Frozen? False\n",
      "\tTrain Loss: 0.151 | Train Acc: 94.76%\n",
      "\t Val. Loss: 0.128 |  Val. Acc: 95.66%\n",
      "training...: 100%|██████████| 3390/3390 [02:26<00:00, 23.09it/s]\n",
      "evaluating...: 100%|██████████| 189/189 [00:03<00:00, 56.47it/s]\n",
      "Epoch: 09 | Epoch Time: 2m 30s) | Frozen? False\n",
      "\tTrain Loss: 0.134 | Train Acc: 95.32%\n",
      "\t Val. Loss: 0.117 |  Val. Acc: 95.98%\n",
      "training...: 100%|██████████| 3390/3390 [02:33<00:00, 22.14it/s]\n",
      "evaluating...: 100%|██████████| 189/189 [00:03<00:00, 61.29it/s]\n",
      "Epoch: 10 | Epoch Time: 2m 36s) | Frozen? False\n",
      "\tTrain Loss: 0.121 | Train Acc: 95.74%\n",
      "\t Val. Loss: 0.115 |  Val. Acc: 96.09%\n",
      "training...: 100%|██████████| 3390/3390 [02:26<00:00, 23.06it/s]\n",
      "evaluating...: 100%|██████████| 189/189 [00:03<00:00, 61.14it/s]\n",
      "Epoch: 11 | Epoch Time: 2m 30s) | Frozen? False\n",
      "\tTrain Loss: 0.114 | Train Acc: 95.96%\n",
      "\t Val. Loss: 0.111 |  Val. Acc: 96.18%\n",
      "training...: 100%|██████████| 3390/3390 [02:29<00:00, 22.64it/s]\n",
      "evaluating...: 100%|██████████| 189/189 [00:02<00:00, 63.01it/s]\n",
      "Counter 1 of 5\n",
      "Epoch: 12 | Epoch Time: 2m 32s) | Frozen? False\n",
      "\tTrain Loss: 0.109 | Train Acc: 96.12%\n",
      "\t Val. Loss: 0.111 |  Val. Acc: 96.25%\n",
      "training...: 100%|██████████| 3390/3390 [02:27<00:00, 23.00it/s]\n",
      "evaluating...: 100%|██████████| 189/189 [00:03<00:00, 56.68it/s]\n",
      "Epoch: 13 | Epoch Time: 2m 30s) | Frozen? False\n",
      "\tTrain Loss: 0.105 | Train Acc: 96.24%\n",
      "\t Val. Loss: 0.109 |  Val. Acc: 96.30%\n",
      "training...: 100%|██████████| 3390/3390 [02:26<00:00, 23.16it/s]\n",
      "evaluating...: 100%|██████████| 189/189 [00:02<00:00, 63.08it/s]\n",
      "Epoch: 14 | Epoch Time: 2m 29s) | Frozen? False\n",
      "\tTrain Loss: 0.101 | Train Acc: 96.38%\n",
      "\t Val. Loss: 0.107 |  Val. Acc: 96.34%\n",
      "training...: 100%|██████████| 3390/3390 [02:26<00:00, 23.07it/s]\n",
      "evaluating...: 100%|██████████| 189/189 [00:02<00:00, 63.61it/s]\n",
      "Epoch: 15 | Epoch Time: 2m 29s) | Frozen? False\n",
      "\tTrain Loss: 0.098 | Train Acc: 96.49%\n",
      "\t Val. Loss: 0.107 |  Val. Acc: 96.32%\n",
      "training...: 100%|██████████| 3390/3390 [02:23<00:00, 23.58it/s]\n",
      "evaluating...: 100%|██████████| 189/189 [00:02<00:00, 63.95it/s]\n",
      "Counter 1 of 5\n",
      "Epoch: 16 | Epoch Time: 2m 26s) | Frozen? False\n",
      "\tTrain Loss: 0.095 | Train Acc: 96.59%\n",
      "\t Val. Loss: 0.108 |  Val. Acc: 96.38%\n",
      "training...: 100%|██████████| 3390/3390 [02:28<00:00, 22.84it/s]\n",
      "evaluating...: 100%|██████████| 189/189 [00:02<00:00, 63.06it/s]\n",
      "Counter 2 of 5\n",
      "Epoch: 17 | Epoch Time: 2m 31s) | Frozen? False\n",
      "\tTrain Loss: 0.092 | Train Acc: 96.68%\n",
      "\t Val. Loss: 0.108 |  Val. Acc: 96.40%\n",
      "training...: 100%|██████████| 3390/3390 [02:25<00:00, 23.25it/s]\n",
      "evaluating...: 100%|██████████| 189/189 [00:02<00:00, 63.70it/s]\n",
      "Counter 3 of 5\n",
      "Epoch: 18 | Epoch Time: 2m 28s) | Frozen? False\n",
      "\tTrain Loss: 0.089 | Train Acc: 96.78%\n",
      "\t Val. Loss: 0.109 |  Val. Acc: 96.42%\n",
      "training...: 100%|██████████| 3390/3390 [02:31<00:00, 22.41it/s]\n",
      "evaluating...: 100%|██████████| 189/189 [00:02<00:00, 63.39it/s]\n",
      "Counter 4 of 5\n",
      "Epoch: 19 | Epoch Time: 2m 34s) | Frozen? False\n",
      "\tTrain Loss: 0.087 | Train Acc: 96.86%\n",
      "\t Val. Loss: 0.109 |  Val. Acc: 96.43%\n",
      "training...: 100%|██████████| 3390/3390 [02:27<00:00, 23.04it/s]\n",
      "evaluating...: 100%|██████████| 189/189 [00:03<00:00, 61.66it/s]\n",
      "Counter 5 of 5\n",
      "Epoch: 20 | Epoch Time: 2m 30s) | Frozen? False\n",
      "\tTrain Loss: 0.084 | Train Acc: 96.95%\n",
      "\t Val. Loss: 0.108 |  Val. Acc: 96.44%\n",
      "training...: 100%|██████████| 3390/3390 [02:28<00:00, 22.87it/s]\n",
      "evaluating...: 100%|██████████| 189/189 [00:03<00:00, 62.73it/s]\n",
      "Counter 6 of 5\n",
      "Early stopping with best valid loss: 0.107 | Valid Loss this Epoch: 0.109 . . .\n"
     ]
    }
   ],
   "source": [
    "#FREEZE_FOR = 5\n",
    "\n",
    "best_valid_loss = float('inf')\n",
    "train_losses = []\n",
    "train_accs = []\n",
    "valid_losses = []\n",
    "valid_accs = []\n",
    "\n",
    "model.embedding.weight.requires_grad = unfrozen = False\n",
    "\n",
    "for epoch in range(N_EPOCHS):\n",
    "    \n",
    "    start_time = time.time()\n",
    "    \n",
    "    train_loss, train_acc = train(model, train_iterator, optimizer, criterion)\n",
    "    valid_loss, valid_acc = evaluate(model, valid_iterator, criterion)\n",
    "    \n",
    "    train_losses.append(train_loss)\n",
    "    train_accs.append(train_acc)\n",
    "    valid_losses.append(valid_loss)\n",
    "    valid_accs.append(valid_acc)\n",
    "    \n",
    "    end_time = time.time()\n",
    "\n",
    "    epoch_mins, epoch_secs = epoch_time(start_time, end_time)\n",
    "    \n",
    "    if valid_loss < best_valid_loss:\n",
    "        best_valid_loss = valid_loss\n",
    "        stop = 0\n",
    "        torch.save(model.state_dict(), 'CNN_Cresci_GloVe.pt')\n",
    "    else:\n",
    "        model.embedding.weight.requires_grad = unfrozen = True\n",
    "        stop +=1\n",
    "        print(\"Counter {} of 5\".format(stop))\n",
    "        \n",
    "        if stop > 5:\n",
    "            print(f'Early stopping with best valid loss: {best_valid_loss:.3f} | Valid Loss this Epoch: {valid_loss:.3f} . . .' )\n",
    "            break\n",
    "\n",
    "    print(f'Epoch: {epoch+1:02} | Epoch Time: {epoch_mins}m {epoch_secs}s) | Frozen? {not unfrozen}')\n",
    "    print(f'\\tTrain Loss: {train_loss:.3f} | Train Acc: {train_acc*100:.2f}%')\n",
    "    print(f'\\t Val. Loss: {valid_loss:.3f} |  Val. Acc: {valid_acc*100:.2f}%')"
   ]
  },
  {
   "cell_type": "code",
   "execution_count": 30,
   "id": "785337bd",
   "metadata": {},
   "outputs": [
    {
     "data": {
      "image/png": "[encoded data removed]",
      "text/plain": [
       "<Figure size 720x432 with 1 Axes>"
      ]
     },
     "metadata": {
      "needs_background": "light"
     },
     "output_type": "display_data"
    }
   ],
   "source": [
    "import matplotlib.pyplot as plt\n",
    "\n",
    "fig = plt.figure(figsize=(10,6))\n",
    "ax = fig.add_subplot(1,1,1)\n",
    "ax.plot(train_losses, label='train loss')\n",
    "ax.plot(valid_losses, label='valid loss')\n",
    "plt.legend() \n",
    "ax.set_xlabel('updates')\n",
    "ax.set_ylabel('loss');"
   ]
  },
  {
   "cell_type": "code",
   "execution_count": 31,
   "id": "e147d5c9",
   "metadata": {},
   "outputs": [
    {
     "data": {
      "image/png": "[encoded data removed]",
      "text/plain": [
       "<Figure size 720x432 with 1 Axes>"
      ]
     },
     "metadata": {
      "needs_background": "light"
     },
     "output_type": "display_data"
    }
   ],
   "source": [
    "fig = plt.figure(figsize=(10,6))\n",
    "ax = fig.add_subplot(1,1,1)\n",
    "ax.plot(train_accs, label='train accuracy')\n",
    "ax.plot(valid_accs, label='valid accuracy')\n",
    "plt.legend()\n",
    "ax.set_xlabel('updates')\n",
    "ax.set_ylabel('accuracy');"
   ]
  },
  {
   "cell_type": "code",
   "execution_count": 29,
   "id": "5768c158",
   "metadata": {},
   "outputs": [
    {
     "name": "stdout",
     "output_type": "stream",
     "text": [
      "evaluating...: 100%|██████████| 189/189 [00:04<00:00, 41.34it/s]\n",
      "Test Loss: 0.108 | Test Acc: 96.37%\n"
     ]
    }
   ],
   "source": [
    "model.load_state_dict(torch.load('CNN_Cresci_GloVe.pt'))\n",
    "\n",
    "test_loss, test_acc = evaluate(model, test_iterator, criterion)\n",
    "\n",
    "print(f'Test Loss: {test_loss:.3f} | Test Acc: {test_acc*100:.2f}%')"
   ]
  },
  {
   "cell_type": "code",
   "execution_count": 30,
   "id": "417cdd3a",
   "metadata": {},
   "outputs": [],
   "source": [
    "import torch.nn.functional as F\n",
    "from sklearn.metrics import confusion_matrix, classification_report\n",
    "from sklearn.metrics import matthews_corrcoef\n",
    "from sklearn.metrics import roc_curve\n",
    "from sklearn.metrics import roc_auc_score\n",
    "import seaborn as sns\n",
    "import matplotlib.pyplot as plt\n",
    "\n",
    "def get_predictions(model, test_iterator):\n",
    "    model.eval()\n",
    "    \n",
    "    tweet_texts = []\n",
    "    predictions = []\n",
    "    prediction_probs = []\n",
    "    real_values = []\n",
    "    \n",
    "    with torch.no_grad():\n",
    "         for batch in test_iterator:\n",
    "            tweets = batch.tweet\n",
    "            labels = batch.label\n",
    "            outputs = model(tweets).squeeze(1)\n",
    "            \n",
    "            preds = torch.round(torch.sigmoid(outputs))\n",
    "            probs = torch.sigmoid(outputs)\n",
    "\n",
    "            tweet_texts.extend(tweets)\n",
    "            predictions.extend(preds)\n",
    "            prediction_probs.extend(probs)\n",
    "            real_values.extend(labels)\n",
    "            \n",
    "    predictions = torch.stack(predictions).cpu()\n",
    "    prediction_probs = torch.stack(prediction_probs).cpu()\n",
    "    real_values = torch.stack(real_values).cpu()\n",
    "    return tweet_texts, predictions, prediction_probs, real_values"
   ]
  },
  {
   "cell_type": "code",
   "execution_count": 31,
   "id": "8d490440",
   "metadata": {},
   "outputs": [],
   "source": [
    "y_tweet_texts, y_pred, y_pred_probs, y_test = get_predictions(\n",
    "  model,\n",
    "  test_iterator\n",
    ")"
   ]
  },
  {
   "cell_type": "code",
   "execution_count": 32,
   "id": "4f7dc483",
   "metadata": {},
   "outputs": [
    {
     "name": "stdout",
     "output_type": "stream",
     "text": [
      "              precision    recall  f1-score   support\n",
      "\n",
      "       Human     0.9795    0.9514    0.9653     51091\n",
      "         Bot     0.9470    0.9776    0.9620     45330\n",
      "\n",
      "    accuracy                         0.9637     96421\n",
      "   macro avg     0.9633    0.9645    0.9637     96421\n",
      "weighted avg     0.9642    0.9637    0.9638     96421\n",
      "\n"
     ]
    }
   ],
   "source": [
    "class_names=[\"Human\", \"Bot\"]\n",
    "print(classification_report(y_test, y_pred, digits=4, target_names=class_names))#, label_names=class_names))"
   ]
  },
  {
   "cell_type": "code",
   "execution_count": 33,
   "id": "035d9a4f",
   "metadata": {},
   "outputs": [
    {
     "data": {
      "image/png": "[encoded data removed]",
      "text/plain": [
       "<Figure size 432x288 with 2 Axes>"
      ]
     },
     "metadata": {
      "needs_background": "light"
     },
     "output_type": "display_data"
    }
   ],
   "source": [
    "import matplotlib.pyplot as plt\n",
    "import pandas as pd\n",
    "\n",
    "class_names = ['Human', 'Bot']\n",
    "\n",
    "def show_confusion_matrix(confusion_matrix):\n",
    "  hmap = sns.heatmap(confusion_matrix, annot=True, fmt=\"d\", cmap=\"Blues\")\n",
    "  hmap.yaxis.set_ticklabels(hmap.yaxis.get_ticklabels(), rotation=0, ha='right')\n",
    "  hmap.xaxis.set_ticklabels(hmap.xaxis.get_ticklabels(), rotation=30, ha='right')\n",
    "  plt.ylabel('TRUE')\n",
    "  plt.xlabel('PREDICTED');\n",
    "\n",
    "cm = confusion_matrix(y_test, y_pred)\n",
    "df_cm = pd.DataFrame(cm, index=class_names, columns=class_names)\n",
    "show_confusion_matrix(df_cm)"
   ]
  },
  {
   "cell_type": "code",
   "execution_count": 37,
   "id": "20929e78",
   "metadata": {},
   "outputs": [
    {
     "data": {
      "text/plain": [
       "0.9277677755605811"
      ]
     },
     "execution_count": 37,
     "metadata": {},
     "output_type": "execute_result"
    }
   ],
   "source": [
    "from sklearn.metrics import matthews_corrcoef\n",
    "matthews_corrcoef(y_test, y_pred)"
   ]
  },
  {
   "cell_type": "code",
   "execution_count": 38,
   "id": "35045d80",
   "metadata": {},
   "outputs": [
    {
     "name": "stdout",
     "output_type": "stream",
     "text": [
      "AUC Score\n",
      "0.9645143314807803\n"
     ]
    },
    {
     "data": {
      "image/png": "[encoded data removed]",
      "text/plain": [
       "<Figure size 576x396 with 1 Axes>"
      ]
     },
     "metadata": {},
     "output_type": "display_data"
    }
   ],
   "source": [
    "    plt.style.use('seaborn')\n",
    "\n",
    "    fpr1, tpr1, thresh1 = roc_curve(y_test, y_pred, pos_label=1)\n",
    "\n",
    "    random_probs = [0 for i in range(len(y_test))]\n",
    "    p_fpr, p_tpr, _ = roc_curve(y_test, random_probs, pos_label=1)\n",
    "    auc_score = roc_auc_score(y_test, y_pred)\n",
    "    print('AUC Score')\n",
    "    print(auc_score)\n",
    "    \n",
    "    # plot roc curves\n",
    "    plt.plot(fpr1, tpr1, linestyle='--',color='orange', label='CNN')\n",
    "    plt.plot(p_fpr, p_tpr, linestyle='--', color='blue')\n",
    "    # title\n",
    "    plt.title('ROC curve')\n",
    "    # x label\n",
    "    plt.xlabel('False Positive Rate')\n",
    "    # y label\n",
    "    plt.ylabel('True Positive rate')\n",
    "\n",
    "    plt.legend(loc='best')\n",
    "    plt.savefig('ROC',dpi=300)\n",
    "    plt.show();"
   ]
  },
  {
   "cell_type": "code",
   "execution_count": 39,
   "id": "34f1fd3d",
   "metadata": {},
   "outputs": [],
   "source": [
    "torch.cuda.empty_cache()"
   ]
  },
  {
   "cell_type": "code",
   "execution_count": null,
   "id": "c4e84447",
   "metadata": {},
   "outputs": [],
   "source": []
  }
 ],
 "metadata": {
  "kernelspec": {
   "display_name": "Python 3",
   "language": "python",
   "name": "python3"
  },
  "language_info": {
   "codemirror_mode": {
    "name": "ipython",
    "version": 3
   },
   "file_extension": ".py",
   "mimetype": "text/x-python",
   "name": "python",
   "nbconvert_exporter": "python",
   "pygments_lexer": "ipython3",
   "version": "3.7.11"
  }
 },
 "nbformat": 4,
 "nbformat_minor": 5
}
